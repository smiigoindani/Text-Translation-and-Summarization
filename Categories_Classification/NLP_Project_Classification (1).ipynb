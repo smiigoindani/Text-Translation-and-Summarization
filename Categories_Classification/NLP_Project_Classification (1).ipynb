{
  "cells": [
    {
      "cell_type": "markdown",
      "id": "9d7a3895-cec0-4300-be7a-e4a74a2fd2ca",
      "metadata": {
        "id": "9d7a3895-cec0-4300-be7a-e4a74a2fd2ca"
      },
      "source": [
        "### Import Packages"
      ]
    },
    {
      "cell_type": "code",
      "execution_count": 1,
      "id": "bba12cfe-a5f0-4226-b67f-a0b886c45b2f",
      "metadata": {
        "id": "bba12cfe-a5f0-4226-b67f-a0b886c45b2f",
        "colab": {
          "base_uri": "https://localhost:8080/"
        },
        "outputId": "22234e79-b090-4c6d-9b8d-4644b54fb3df"
      },
      "outputs": [
        {
          "output_type": "stream",
          "name": "stdout",
          "text": [
            "Looking in indexes: https://pypi.org/simple, https://us-python.pkg.dev/colab-wheels/public/simple/\n",
            "Collecting sentence_transformers\n",
            "  Downloading sentence-transformers-2.2.2.tar.gz (85 kB)\n",
            "\u001b[K     |████████████████████████████████| 85 kB 4.4 MB/s \n",
            "\u001b[?25hCollecting transformers<5.0.0,>=4.6.0\n",
            "  Downloading transformers-4.21.1-py3-none-any.whl (4.7 MB)\n",
            "\u001b[K     |████████████████████████████████| 4.7 MB 36.3 MB/s \n",
            "\u001b[?25hRequirement already satisfied: tqdm in /usr/local/lib/python3.7/dist-packages (from sentence_transformers) (4.64.0)\n",
            "Requirement already satisfied: torch>=1.6.0 in /usr/local/lib/python3.7/dist-packages (from sentence_transformers) (1.12.1+cu113)\n",
            "Requirement already satisfied: torchvision in /usr/local/lib/python3.7/dist-packages (from sentence_transformers) (0.13.1+cu113)\n",
            "Requirement already satisfied: numpy in /usr/local/lib/python3.7/dist-packages (from sentence_transformers) (1.21.6)\n",
            "Requirement already satisfied: scikit-learn in /usr/local/lib/python3.7/dist-packages (from sentence_transformers) (1.0.2)\n",
            "Requirement already satisfied: scipy in /usr/local/lib/python3.7/dist-packages (from sentence_transformers) (1.7.3)\n",
            "Requirement already satisfied: nltk in /usr/local/lib/python3.7/dist-packages (from sentence_transformers) (3.7)\n",
            "Collecting sentencepiece\n",
            "  Downloading sentencepiece-0.1.97-cp37-cp37m-manylinux_2_17_x86_64.manylinux2014_x86_64.whl (1.3 MB)\n",
            "\u001b[K     |████████████████████████████████| 1.3 MB 24.1 MB/s \n",
            "\u001b[?25hCollecting huggingface-hub>=0.4.0\n",
            "  Downloading huggingface_hub-0.8.1-py3-none-any.whl (101 kB)\n",
            "\u001b[K     |████████████████████████████████| 101 kB 5.3 MB/s \n",
            "\u001b[?25hRequirement already satisfied: importlib-metadata in /usr/local/lib/python3.7/dist-packages (from huggingface-hub>=0.4.0->sentence_transformers) (4.12.0)\n",
            "Requirement already satisfied: filelock in /usr/local/lib/python3.7/dist-packages (from huggingface-hub>=0.4.0->sentence_transformers) (3.7.1)\n",
            "Requirement already satisfied: packaging>=20.9 in /usr/local/lib/python3.7/dist-packages (from huggingface-hub>=0.4.0->sentence_transformers) (21.3)\n",
            "Collecting pyyaml>=5.1\n",
            "  Downloading PyYAML-6.0-cp37-cp37m-manylinux_2_5_x86_64.manylinux1_x86_64.manylinux_2_12_x86_64.manylinux2010_x86_64.whl (596 kB)\n",
            "\u001b[K     |████████████████████████████████| 596 kB 30.1 MB/s \n",
            "\u001b[?25hRequirement already satisfied: typing-extensions>=3.7.4.3 in /usr/local/lib/python3.7/dist-packages (from huggingface-hub>=0.4.0->sentence_transformers) (4.1.1)\n",
            "Requirement already satisfied: requests in /usr/local/lib/python3.7/dist-packages (from huggingface-hub>=0.4.0->sentence_transformers) (2.23.0)\n",
            "Requirement already satisfied: pyparsing!=3.0.5,>=2.0.2 in /usr/local/lib/python3.7/dist-packages (from packaging>=20.9->huggingface-hub>=0.4.0->sentence_transformers) (3.0.9)\n",
            "Requirement already satisfied: regex!=2019.12.17 in /usr/local/lib/python3.7/dist-packages (from transformers<5.0.0,>=4.6.0->sentence_transformers) (2022.6.2)\n",
            "Collecting tokenizers!=0.11.3,<0.13,>=0.11.1\n",
            "  Downloading tokenizers-0.12.1-cp37-cp37m-manylinux_2_12_x86_64.manylinux2010_x86_64.whl (6.6 MB)\n",
            "\u001b[K     |████████████████████████████████| 6.6 MB 58.8 MB/s \n",
            "\u001b[?25hRequirement already satisfied: zipp>=0.5 in /usr/local/lib/python3.7/dist-packages (from importlib-metadata->huggingface-hub>=0.4.0->sentence_transformers) (3.8.1)\n",
            "Requirement already satisfied: click in /usr/local/lib/python3.7/dist-packages (from nltk->sentence_transformers) (7.1.2)\n",
            "Requirement already satisfied: joblib in /usr/local/lib/python3.7/dist-packages (from nltk->sentence_transformers) (1.1.0)\n",
            "Requirement already satisfied: certifi>=2017.4.17 in /usr/local/lib/python3.7/dist-packages (from requests->huggingface-hub>=0.4.0->sentence_transformers) (2022.6.15)\n",
            "Requirement already satisfied: chardet<4,>=3.0.2 in /usr/local/lib/python3.7/dist-packages (from requests->huggingface-hub>=0.4.0->sentence_transformers) (3.0.4)\n",
            "Requirement already satisfied: urllib3!=1.25.0,!=1.25.1,<1.26,>=1.21.1 in /usr/local/lib/python3.7/dist-packages (from requests->huggingface-hub>=0.4.0->sentence_transformers) (1.24.3)\n",
            "Requirement already satisfied: idna<3,>=2.5 in /usr/local/lib/python3.7/dist-packages (from requests->huggingface-hub>=0.4.0->sentence_transformers) (2.10)\n",
            "Requirement already satisfied: threadpoolctl>=2.0.0 in /usr/local/lib/python3.7/dist-packages (from scikit-learn->sentence_transformers) (3.1.0)\n",
            "Requirement already satisfied: pillow!=8.3.*,>=5.3.0 in /usr/local/lib/python3.7/dist-packages (from torchvision->sentence_transformers) (7.1.2)\n",
            "Building wheels for collected packages: sentence-transformers\n",
            "  Building wheel for sentence-transformers (setup.py) ... \u001b[?25l\u001b[?25hdone\n",
            "  Created wheel for sentence-transformers: filename=sentence_transformers-2.2.2-py3-none-any.whl size=125938 sha256=29e37c3b86421fd62f62b799bf770acb972a6839de5efcd37e655ce731c4c718\n",
            "  Stored in directory: /root/.cache/pip/wheels/bf/06/fb/d59c1e5bd1dac7f6cf61ec0036cc3a10ab8fecaa6b2c3d3ee9\n",
            "Successfully built sentence-transformers\n",
            "Installing collected packages: pyyaml, tokenizers, huggingface-hub, transformers, sentencepiece, sentence-transformers\n",
            "  Attempting uninstall: pyyaml\n",
            "    Found existing installation: PyYAML 3.13\n",
            "    Uninstalling PyYAML-3.13:\n",
            "      Successfully uninstalled PyYAML-3.13\n",
            "Successfully installed huggingface-hub-0.8.1 pyyaml-6.0 sentence-transformers-2.2.2 sentencepiece-0.1.97 tokenizers-0.12.1 transformers-4.21.1\n"
          ]
        }
      ],
      "source": [
        "!pip install sentence_transformers\n",
        "import pandas as pd\n",
        "import numpy as np\n",
        "from sentence_transformers import SentenceTransformer\n",
        "from sklearn import metrics, manifold, preprocessing, model_selection, naive_bayes, linear_model, svm\n",
        "from sklearn.metrics.pairwise import cosine_similarity\n",
        "from sklearn.utils import resample\n",
        "from sklearn.feature_extraction.text import TfidfVectorizer\n",
        "from sklearn.preprocessing import LabelEncoder\n",
        "from sklearn.metrics import confusion_matrix, plot_confusion_matrix, classification_report\n",
        "from sklearn.model_selection import train_test_split\n",
        "import tensorflow as tf\n",
        "from tensorflow.keras.preprocessing.sequence import pad_sequences\n",
        "from tensorflow.keras.preprocessing.text import Tokenizer\n",
        "from keras.models import Sequential\n",
        "from keras import layers\n",
        "import matplotlib.pyplot as plt\n",
        "import seaborn as sns\n",
        "import pickle \n",
        "import joblib\n",
        "import random\n",
        "tf.keras.utils.set_random_seed(1)\n",
        "tf.config.experimental.enable_op_determinism()"
      ]
    },
    {
      "cell_type": "markdown",
      "id": "f1c834c6-52ed-4072-a96d-a3bfddb4488d",
      "metadata": {
        "id": "f1c834c6-52ed-4072-a96d-a3bfddb4488d"
      },
      "source": [
        "### Setup Dataframes"
      ]
    },
    {
      "cell_type": "code",
      "execution_count": 2,
      "id": "ba70edd4-49d2-401b-99e0-9008cbd6c4ab",
      "metadata": {
        "colab": {
          "base_uri": "https://localhost:8080/"
        },
        "id": "ba70edd4-49d2-401b-99e0-9008cbd6c4ab",
        "outputId": "19b07470-f80e-403e-e486-d3ce1e9d34a3"
      },
      "outputs": [
        {
          "output_type": "execute_result",
          "data": {
            "text/plain": [
              "sport            493\n",
              "business         483\n",
              "politics         421\n",
              "entertainment    420\n",
              "tech             408\n",
              "Name: label, dtype: int64"
            ]
          },
          "metadata": {},
          "execution_count": 2
        }
      ],
      "source": [
        "#read the training dataset into a dataframe\n",
        "df = pd.read_csv('BBC News Train.csv')\n",
        "df = df[['Text', 'Category']]\n",
        "df = df.rename(columns = {'Text' : 'text', 'Category' : 'label'})\n",
        "df['label'].value_counts()"
      ]
    },
    {
      "cell_type": "markdown",
      "id": "f3b8d17e-d59c-47f5-8bee-6584bc6f7e2b",
      "metadata": {
        "id": "f3b8d17e-d59c-47f5-8bee-6584bc6f7e2b"
      },
      "source": [
        "### Embedding"
      ]
    },
    {
      "cell_type": "code",
      "execution_count": 3,
      "id": "f24449e0-41ca-4001-a5b5-c23f6a0b5479",
      "metadata": {
        "id": "f24449e0-41ca-4001-a5b5-c23f6a0b5479"
      },
      "outputs": [],
      "source": [
        "#account for class imbalance by taking the number of labels in the training dataset\n",
        "sport = df[df['label'] == 'sport']\n",
        "business = df[df['label'] == 'business']\n",
        "politics = df[df['label'] == 'politics']\n",
        "entertainment = df[df['label'] == 'entertainment']\n",
        "tech = df[df['label'] == 'tech']\n",
        "\n",
        "len_sport = len(sport['label'])\n",
        "len_business = len(business['label'])\n",
        "len_politics = len(politics['label'])\n",
        "len_entertainment = len(entertainment['label'])\n",
        "len_tech = len(tech['label'])\n",
        "\n",
        "lenlst = [len_sport, len_business, len_politics, len_entertainment, len_tech]\n",
        "mini = min(lenlst)"
      ]
    },
    {
      "cell_type": "code",
      "execution_count": 4,
      "id": "7a479ca9-5419-4463-99c4-f367e31013c5",
      "metadata": {
        "colab": {
          "base_uri": "https://localhost:8080/"
        },
        "id": "7a479ca9-5419-4463-99c4-f367e31013c5",
        "outputId": "7c604300-ddf7-4d00-d188-406e1af693e1"
      },
      "outputs": [
        {
          "output_type": "execute_result",
          "data": {
            "text/plain": [
              "sport            408\n",
              "business         408\n",
              "politics         408\n",
              "entertainment    408\n",
              "tech             408\n",
              "Name: label, dtype: int64"
            ]
          },
          "metadata": {},
          "execution_count": 4
        }
      ],
      "source": [
        "#downsample each label based on the minimum length of labels\n",
        "sport_downsample = resample(sport,\n",
        "             replace=True,\n",
        "             n_samples=mini,\n",
        "             random_state=42)\n",
        "business_downsample = resample(business,\n",
        "             replace=True,\n",
        "             n_samples=mini,\n",
        "             random_state=42)\n",
        "politics_downsample = resample(politics,\n",
        "             replace=True,\n",
        "             n_samples=mini,\n",
        "             random_state=42)\n",
        "entertainment_downsample = resample(entertainment,\n",
        "             replace=True,\n",
        "             n_samples=mini,\n",
        "             random_state=42)\n",
        "tech_downsample = resample(tech,\n",
        "             replace=True,\n",
        "             n_samples=mini,\n",
        "             random_state=42)\n",
        "\n",
        "dff = pd.concat([sport_downsample, business_downsample, politics_downsample, entertainment_downsample, tech_downsample])\n",
        "dff['label'].value_counts()"
      ]
    },
    {
      "cell_type": "code",
      "execution_count": 5,
      "id": "b5a871b1-7c91-4b8d-b558-9661704310ed",
      "metadata": {
        "colab": {
          "base_uri": "https://localhost:8080/"
        },
        "id": "b5a871b1-7c91-4b8d-b558-9661704310ed",
        "outputId": "a6555282-a66f-4218-fd8d-bb118317cd49"
      },
      "outputs": [
        {
          "output_type": "stream",
          "name": "stdout",
          "text": [
            "Found 29726 unique tokens.\n"
          ]
        }
      ],
      "source": [
        "#fit tokenizer on the phrases to get word index\n",
        "MAX_NB_WORDS = 50000\n",
        "MAX_SEQUENCE_LENGTH = 500\n",
        "EMBEDDING_DIM = 120\n",
        "tokenizer = Tokenizer(num_words=MAX_NB_WORDS, filters='!\"#$%&()*+,-./:;<=>?@[\\]^_`{|}~', lower=True)\n",
        "tokenizer.fit_on_texts(df['text'].values.tolist())\n",
        "word_index = tokenizer.word_index\n",
        "print('Found %s unique tokens.' % len(word_index))"
      ]
    },
    {
      "cell_type": "code",
      "execution_count": 6,
      "id": "32d80af9-6e04-46fc-a74d-f5dfe2772392",
      "metadata": {
        "colab": {
          "base_uri": "https://localhost:8080/"
        },
        "id": "32d80af9-6e04-46fc-a74d-f5dfe2772392",
        "outputId": "b5174f37-50ea-4cdf-e6cc-600083bc5cde"
      },
      "outputs": [
        {
          "output_type": "stream",
          "name": "stdout",
          "text": [
            "Shape of text/phrase tensor: (2040, 500)\n"
          ]
        }
      ],
      "source": [
        "#convert the phrases in the training dataset to their index form by using the tokenizer\n",
        "X = tokenizer.texts_to_sequences(dff['text'].values)\n",
        "X = pad_sequences(X, maxlen=MAX_SEQUENCE_LENGTH)\n",
        "print('Shape of text/phrase tensor:', X.shape)"
      ]
    },
    {
      "cell_type": "code",
      "execution_count": 7,
      "id": "fe6caf4f-cc3b-4163-810d-1ea0a4cc5cd8",
      "metadata": {
        "colab": {
          "base_uri": "https://localhost:8080/"
        },
        "id": "fe6caf4f-cc3b-4163-810d-1ea0a4cc5cd8",
        "outputId": "5f5af4cc-ded5-48ad-c2ef-b670be4b8f8b"
      },
      "outputs": [
        {
          "output_type": "stream",
          "name": "stdout",
          "text": [
            "Shape of parent label tensor: (2040, 5)\n"
          ]
        }
      ],
      "source": [
        "#encode the parent class label\n",
        "Y = pd.get_dummies(dff['label']).values\n",
        "print('Shape of parent label tensor:', Y.shape)"
      ]
    },
    {
      "cell_type": "code",
      "execution_count": 8,
      "id": "80d77df2-1559-43e7-9b64-36c06e08db92",
      "metadata": {
        "colab": {
          "base_uri": "https://localhost:8080/"
        },
        "id": "80d77df2-1559-43e7-9b64-36c06e08db92",
        "outputId": "4b1abc0d-cd3c-4fb2-a3f9-aa9ad626cea4"
      },
      "outputs": [
        {
          "output_type": "stream",
          "name": "stdout",
          "text": [
            "(1836, 500) (1836, 5)\n",
            "(204, 500) (204, 5)\n"
          ]
        }
      ],
      "source": [
        "#split the train and test data\n",
        "X_train, X_test, Y_train, Y_test = train_test_split(X,Y, test_size = 0.10, random_state = 42)\n",
        "print(X_train.shape,Y_train.shape)\n",
        "print(X_test.shape,Y_test.shape)"
      ]
    },
    {
      "cell_type": "markdown",
      "id": "a891d50e-5331-41f0-8a0f-c02214a7154c",
      "metadata": {
        "id": "a891d50e-5331-41f0-8a0f-c02214a7154c"
      },
      "source": [
        "### LSTM Model Building & Evaluation"
      ]
    },
    {
      "cell_type": "code",
      "execution_count": 9,
      "id": "00ebdbef-d297-4d25-a663-7430714f30d9",
      "metadata": {
        "colab": {
          "base_uri": "https://localhost:8080/"
        },
        "id": "00ebdbef-d297-4d25-a663-7430714f30d9",
        "outputId": "212810f0-123e-47ae-f212-3ac304d09cf7"
      },
      "outputs": [
        {
          "output_type": "stream",
          "name": "stdout",
          "text": [
            "Model: \"sequential\"\n",
            "_________________________________________________________________\n",
            " Layer (type)                Output Shape              Param #   \n",
            "=================================================================\n",
            " embedding (Embedding)       (None, 500, 120)          6000000   \n",
            "                                                                 \n",
            " bidirectional (Bidirectiona  (None, 240)              231360    \n",
            " l)                                                              \n",
            "                                                                 \n",
            " dense (Dense)               (None, 120)               28920     \n",
            "                                                                 \n",
            " dense_1 (Dense)             (None, 5)                 605       \n",
            "                                                                 \n",
            "=================================================================\n",
            "Total params: 6,260,885\n",
            "Trainable params: 6,260,885\n",
            "Non-trainable params: 0\n",
            "_________________________________________________________________\n",
            "None\n"
          ]
        }
      ],
      "source": [
        "#build the bi-directional LSTM model\n",
        "model = Sequential()\n",
        "model.add(layers.Embedding(MAX_NB_WORDS, EMBEDDING_DIM, input_length=X.shape[1]))\n",
        "model.add(layers.Bidirectional(layers.LSTM(120, dropout = 0.3)))\n",
        "model.add(layers.Dense(120, activation = \"relu\"))\n",
        "model.add(layers.Dense(5, activation='softmax'))\n",
        "model.compile(optimizer=tf.keras.optimizers.Adam(learning_rate=1e-3),\n",
        "              loss=tf.keras.losses.CategoricalCrossentropy(),\n",
        "              metrics=['accuracy', 'AUC', 'Precision', 'Recall'])\n",
        "print(model.summary())"
      ]
    },
    {
      "cell_type": "code",
      "execution_count": 10,
      "id": "942d4173-3cee-417d-bb33-c8e96b8a6b7c",
      "metadata": {
        "colab": {
          "base_uri": "https://localhost:8080/"
        },
        "id": "942d4173-3cee-417d-bb33-c8e96b8a6b7c",
        "outputId": "af2ee4e6-ba84-46a6-dc89-27319af7f24b"
      },
      "outputs": [
        {
          "output_type": "stream",
          "name": "stdout",
          "text": [
            "Epoch 1/100\n",
            "26/26 [==============================] - 20s 136ms/step - loss: 1.5973 - accuracy: 0.2627 - auc: 0.5694 - precision: 0.0000e+00 - recall: 0.0000e+00 - val_loss: 1.5853 - val_accuracy: 0.1685 - val_auc: 0.5722 - val_precision: 0.0000e+00 - val_recall: 0.0000e+00\n",
            "Epoch 2/100\n",
            "26/26 [==============================] - 2s 82ms/step - loss: 1.5649 - accuracy: 0.4219 - auc: 0.7264 - precision: 0.3558 - recall: 0.0224 - val_loss: 1.4103 - val_accuracy: 0.4728 - val_auc: 0.7849 - val_precision: 0.0000e+00 - val_recall: 0.0000e+00\n",
            "Epoch 3/100\n",
            "26/26 [==============================] - 2s 66ms/step - loss: 1.0753 - accuracy: 0.6525 - auc: 0.8904 - precision: 0.8758 - recall: 0.2391 - val_loss: 0.9534 - val_accuracy: 0.7120 - val_auc: 0.9023 - val_precision: 0.8780 - val_recall: 0.3913\n",
            "Epoch 4/100\n",
            "26/26 [==============================] - 2s 65ms/step - loss: 0.4542 - accuracy: 0.8910 - auc: 0.9780 - precision: 0.9345 - recall: 0.7863 - val_loss: 0.7953 - val_accuracy: 0.7609 - val_auc: 0.9226 - val_precision: 0.8137 - val_recall: 0.7120\n",
            "Epoch 5/100\n",
            "26/26 [==============================] - 2s 64ms/step - loss: 0.1711 - accuracy: 0.9522 - auc: 0.9954 - precision: 0.9617 - recall: 0.9425 - val_loss: 0.7521 - val_accuracy: 0.7554 - val_auc: 0.9348 - val_precision: 0.8095 - val_recall: 0.7391\n",
            "Epoch 6/100\n",
            "26/26 [==============================] - 2s 65ms/step - loss: 0.0906 - accuracy: 0.9776 - auc: 0.9972 - precision: 0.9782 - recall: 0.9758 - val_loss: 0.8060 - val_accuracy: 0.7663 - val_auc: 0.9387 - val_precision: 0.8129 - val_recall: 0.7554\n",
            "Epoch 7/100\n",
            "26/26 [==============================] - 2s 64ms/step - loss: 0.0687 - accuracy: 0.9794 - auc: 0.9992 - precision: 0.9794 - recall: 0.9788 - val_loss: 0.7445 - val_accuracy: 0.7609 - val_auc: 0.9438 - val_precision: 0.8373 - val_recall: 0.7554\n",
            "Epoch 8/100\n",
            "26/26 [==============================] - 2s 64ms/step - loss: 0.0638 - accuracy: 0.9800 - auc: 0.9987 - precision: 0.9812 - recall: 0.9800 - val_loss: 0.8799 - val_accuracy: 0.7554 - val_auc: 0.9351 - val_precision: 0.7941 - val_recall: 0.7337\n",
            "Epoch 9/100\n",
            "26/26 [==============================] - 2s 65ms/step - loss: 0.0492 - accuracy: 0.9824 - auc: 0.9994 - precision: 0.9830 - recall: 0.9824 - val_loss: 0.8161 - val_accuracy: 0.7826 - val_auc: 0.9330 - val_precision: 0.8235 - val_recall: 0.7609\n",
            "Epoch 10/100\n",
            "26/26 [==============================] - 2s 64ms/step - loss: 0.0484 - accuracy: 0.9818 - auc: 0.9998 - precision: 0.9818 - recall: 0.9806 - val_loss: 0.7991 - val_accuracy: 0.7717 - val_auc: 0.9430 - val_precision: 0.8161 - val_recall: 0.7717\n",
            "Epoch 11/100\n",
            "26/26 [==============================] - 2s 64ms/step - loss: 0.0490 - accuracy: 0.9800 - auc: 0.9998 - precision: 0.9806 - recall: 0.9782 - val_loss: 0.8236 - val_accuracy: 0.7609 - val_auc: 0.9396 - val_precision: 0.7965 - val_recall: 0.7446\n",
            "Epoch 12/100\n",
            "26/26 [==============================] - 2s 64ms/step - loss: 0.0453 - accuracy: 0.9831 - auc: 0.9997 - precision: 0.9830 - recall: 0.9824 - val_loss: 0.8567 - val_accuracy: 0.7826 - val_auc: 0.9351 - val_precision: 0.8023 - val_recall: 0.7717\n",
            "Epoch 13/100\n",
            "26/26 [==============================] - 2s 64ms/step - loss: 0.0492 - accuracy: 0.9818 - auc: 0.9993 - precision: 0.9824 - recall: 0.9818 - val_loss: 0.7769 - val_accuracy: 0.7663 - val_auc: 0.9432 - val_precision: 0.8176 - val_recall: 0.7554\n",
            "Epoch 14/100\n",
            "26/26 [==============================] - 2s 64ms/step - loss: 0.0495 - accuracy: 0.9818 - auc: 0.9993 - precision: 0.9818 - recall: 0.9818 - val_loss: 0.8031 - val_accuracy: 0.7880 - val_auc: 0.9399 - val_precision: 0.8412 - val_recall: 0.7772\n",
            "Epoch 15/100\n",
            "26/26 [==============================] - 2s 65ms/step - loss: 0.0418 - accuracy: 0.9849 - auc: 0.9998 - precision: 0.9849 - recall: 0.9843 - val_loss: 0.7625 - val_accuracy: 0.7717 - val_auc: 0.9436 - val_precision: 0.8187 - val_recall: 0.7609\n",
            "Epoch 16/100\n",
            "26/26 [==============================] - 2s 64ms/step - loss: 0.0420 - accuracy: 0.9818 - auc: 0.9998 - precision: 0.9818 - recall: 0.9818 - val_loss: 0.8470 - val_accuracy: 0.7935 - val_auc: 0.9388 - val_precision: 0.8343 - val_recall: 0.7663\n",
            "Epoch 17/100\n",
            "26/26 [==============================] - 2s 65ms/step - loss: 0.0434 - accuracy: 0.9831 - auc: 0.9998 - precision: 0.9830 - recall: 0.9812 - val_loss: 0.8385 - val_accuracy: 0.7663 - val_auc: 0.9397 - val_precision: 0.8092 - val_recall: 0.7609\n",
            "Epoch 18/100\n",
            "26/26 [==============================] - 2s 65ms/step - loss: 0.0411 - accuracy: 0.9831 - auc: 0.9998 - precision: 0.9830 - recall: 0.9812 - val_loss: 0.9140 - val_accuracy: 0.7663 - val_auc: 0.9386 - val_precision: 0.7886 - val_recall: 0.7500\n",
            "Epoch 19/100\n",
            "26/26 [==============================] - 2s 64ms/step - loss: 0.0388 - accuracy: 0.9837 - auc: 0.9998 - precision: 0.9843 - recall: 0.9837 - val_loss: 0.9290 - val_accuracy: 0.7609 - val_auc: 0.9385 - val_precision: 0.7829 - val_recall: 0.7446\n",
            "Epoch 20/100\n",
            "26/26 [==============================] - 2s 64ms/step - loss: 0.0771 - accuracy: 0.9758 - auc: 0.9988 - precision: 0.9763 - recall: 0.9740 - val_loss: 0.7653 - val_accuracy: 0.7989 - val_auc: 0.9377 - val_precision: 0.8720 - val_recall: 0.7772\n",
            "Epoch 21/100\n",
            "26/26 [==============================] - 2s 65ms/step - loss: 0.0672 - accuracy: 0.9770 - auc: 0.9995 - precision: 0.9770 - recall: 0.9758 - val_loss: 0.7462 - val_accuracy: 0.8098 - val_auc: 0.9417 - val_precision: 0.8580 - val_recall: 0.7880\n",
            "Epoch 22/100\n",
            "26/26 [==============================] - 2s 65ms/step - loss: 0.0447 - accuracy: 0.9806 - auc: 0.9997 - precision: 0.9818 - recall: 0.9794 - val_loss: 0.8114 - val_accuracy: 0.7989 - val_auc: 0.9387 - val_precision: 0.8229 - val_recall: 0.7826\n",
            "Epoch 23/100\n",
            "26/26 [==============================] - 2s 65ms/step - loss: 0.0436 - accuracy: 0.9824 - auc: 0.9994 - precision: 0.9830 - recall: 0.9818 - val_loss: 0.8929 - val_accuracy: 0.7989 - val_auc: 0.9363 - val_precision: 0.8192 - val_recall: 0.7880\n",
            "Epoch 24/100\n",
            "26/26 [==============================] - 2s 64ms/step - loss: 0.0405 - accuracy: 0.9782 - auc: 0.9995 - precision: 0.9794 - recall: 0.9776 - val_loss: 0.8161 - val_accuracy: 0.7935 - val_auc: 0.9419 - val_precision: 0.8266 - val_recall: 0.7772\n",
            "Epoch 25/100\n",
            "26/26 [==============================] - 2s 65ms/step - loss: 0.0426 - accuracy: 0.9824 - auc: 0.9998 - precision: 0.9824 - recall: 0.9818 - val_loss: 0.8007 - val_accuracy: 0.7935 - val_auc: 0.9370 - val_precision: 0.8412 - val_recall: 0.7772\n",
            "Epoch 26/100\n",
            "26/26 [==============================] - 2s 65ms/step - loss: 0.0387 - accuracy: 0.9843 - auc: 0.9998 - precision: 0.9843 - recall: 0.9843 - val_loss: 0.7660 - val_accuracy: 0.7935 - val_auc: 0.9442 - val_precision: 0.8393 - val_recall: 0.7663\n",
            "Epoch 27/100\n",
            "26/26 [==============================] - 2s 65ms/step - loss: 0.0388 - accuracy: 0.9800 - auc: 0.9998 - precision: 0.9812 - recall: 0.9800 - val_loss: 0.8357 - val_accuracy: 0.7935 - val_auc: 0.9377 - val_precision: 0.8136 - val_recall: 0.7826\n",
            "Epoch 28/100\n",
            "26/26 [==============================] - 2s 64ms/step - loss: 0.0387 - accuracy: 0.9831 - auc: 0.9998 - precision: 0.9836 - recall: 0.9818 - val_loss: 0.7626 - val_accuracy: 0.7826 - val_auc: 0.9434 - val_precision: 0.8402 - val_recall: 0.7717\n",
            "Epoch 29/100\n",
            "26/26 [==============================] - 2s 64ms/step - loss: 0.0390 - accuracy: 0.9818 - auc: 0.9998 - precision: 0.9818 - recall: 0.9806 - val_loss: 0.8046 - val_accuracy: 0.7880 - val_auc: 0.9443 - val_precision: 0.8218 - val_recall: 0.7772\n",
            "Epoch 30/100\n",
            "26/26 [==============================] - 2s 65ms/step - loss: 0.0352 - accuracy: 0.9849 - auc: 0.9998 - precision: 0.9849 - recall: 0.9849 - val_loss: 0.7906 - val_accuracy: 0.7989 - val_auc: 0.9439 - val_precision: 0.8295 - val_recall: 0.7935\n",
            "Epoch 31/100\n",
            "26/26 [==============================] - 2s 65ms/step - loss: 0.0390 - accuracy: 0.9831 - auc: 0.9998 - precision: 0.9836 - recall: 0.9824 - val_loss: 0.7863 - val_accuracy: 0.7717 - val_auc: 0.9435 - val_precision: 0.8208 - val_recall: 0.7717\n",
            "Epoch 32/100\n",
            "26/26 [==============================] - 2s 65ms/step - loss: 0.0359 - accuracy: 0.9837 - auc: 0.9998 - precision: 0.9842 - recall: 0.9831 - val_loss: 0.7692 - val_accuracy: 0.7935 - val_auc: 0.9447 - val_precision: 0.8430 - val_recall: 0.7880\n",
            "Epoch 33/100\n",
            "26/26 [==============================] - 2s 66ms/step - loss: 0.0343 - accuracy: 0.9824 - auc: 0.9998 - precision: 0.9824 - recall: 0.9824 - val_loss: 0.8502 - val_accuracy: 0.7717 - val_auc: 0.9441 - val_precision: 0.8114 - val_recall: 0.7717\n",
            "Epoch 34/100\n",
            "26/26 [==============================] - 2s 66ms/step - loss: 0.0345 - accuracy: 0.9837 - auc: 0.9998 - precision: 0.9837 - recall: 0.9837 - val_loss: 0.8094 - val_accuracy: 0.7935 - val_auc: 0.9440 - val_precision: 0.8372 - val_recall: 0.7826\n",
            "Epoch 35/100\n",
            "26/26 [==============================] - 2s 65ms/step - loss: 0.0343 - accuracy: 0.9824 - auc: 0.9998 - precision: 0.9830 - recall: 0.9818 - val_loss: 0.8186 - val_accuracy: 0.7826 - val_auc: 0.9412 - val_precision: 0.8229 - val_recall: 0.7826\n",
            "Epoch 36/100\n",
            "26/26 [==============================] - 2s 65ms/step - loss: 0.0332 - accuracy: 0.9831 - auc: 0.9998 - precision: 0.9831 - recall: 0.9831 - val_loss: 0.8066 - val_accuracy: 0.7989 - val_auc: 0.9423 - val_precision: 0.8324 - val_recall: 0.7826\n",
            "Epoch 37/100\n",
            "26/26 [==============================] - 2s 65ms/step - loss: 0.0373 - accuracy: 0.9782 - auc: 0.9998 - precision: 0.9782 - recall: 0.9770 - val_loss: 0.8627 - val_accuracy: 0.7880 - val_auc: 0.9410 - val_precision: 0.8136 - val_recall: 0.7826\n",
            "Epoch 38/100\n",
            "26/26 [==============================] - 2s 65ms/step - loss: 0.0334 - accuracy: 0.9849 - auc: 0.9999 - precision: 0.9849 - recall: 0.9843 - val_loss: 0.8036 - val_accuracy: 0.7880 - val_auc: 0.9437 - val_precision: 0.8229 - val_recall: 0.7826\n",
            "Epoch 39/100\n",
            "26/26 [==============================] - 2s 65ms/step - loss: 0.0329 - accuracy: 0.9843 - auc: 0.9999 - precision: 0.9843 - recall: 0.9843 - val_loss: 0.8239 - val_accuracy: 0.7772 - val_auc: 0.9454 - val_precision: 0.8161 - val_recall: 0.7717\n",
            "Epoch 40/100\n",
            "26/26 [==============================] - 2s 65ms/step - loss: 0.0309 - accuracy: 0.9843 - auc: 0.9999 - precision: 0.9854 - recall: 0.9837 - val_loss: 0.8702 - val_accuracy: 0.7880 - val_auc: 0.9416 - val_precision: 0.8146 - val_recall: 0.7880\n",
            "Epoch 41/100\n",
            "26/26 [==============================] - 2s 66ms/step - loss: 0.0630 - accuracy: 0.9746 - auc: 0.9991 - precision: 0.9763 - recall: 0.9709 - val_loss: 0.8942 - val_accuracy: 0.7500 - val_auc: 0.9240 - val_precision: 0.7870 - val_recall: 0.7228\n",
            "Epoch 42/100\n",
            "26/26 [==============================] - 2s 65ms/step - loss: 0.0809 - accuracy: 0.9740 - auc: 0.9993 - precision: 0.9775 - recall: 0.9715 - val_loss: 0.9107 - val_accuracy: 0.7663 - val_auc: 0.9250 - val_precision: 0.8000 - val_recall: 0.7609\n",
            "Epoch 43/100\n",
            "26/26 [==============================] - 2s 78ms/step - loss: 0.0601 - accuracy: 0.9770 - auc: 0.9992 - precision: 0.9794 - recall: 0.9764 - val_loss: 0.8767 - val_accuracy: 0.7500 - val_auc: 0.9300 - val_precision: 0.7674 - val_recall: 0.7174\n",
            "Epoch 44/100\n",
            "26/26 [==============================] - 3s 106ms/step - loss: 0.0466 - accuracy: 0.9812 - auc: 0.9997 - precision: 0.9812 - recall: 0.9806 - val_loss: 0.8861 - val_accuracy: 0.7826 - val_auc: 0.9307 - val_precision: 0.8070 - val_recall: 0.7500\n",
            "Epoch 45/100\n",
            "26/26 [==============================] - 2s 74ms/step - loss: 0.0429 - accuracy: 0.9831 - auc: 0.9998 - precision: 0.9830 - recall: 0.9812 - val_loss: 0.9152 - val_accuracy: 0.7826 - val_auc: 0.9357 - val_precision: 0.8023 - val_recall: 0.7717\n",
            "Epoch 46/100\n",
            "26/26 [==============================] - 2s 65ms/step - loss: 0.0410 - accuracy: 0.9824 - auc: 0.9998 - precision: 0.9830 - recall: 0.9812 - val_loss: 0.9258 - val_accuracy: 0.7609 - val_auc: 0.9310 - val_precision: 0.7784 - val_recall: 0.7446\n",
            "Epoch 47/100\n",
            "26/26 [==============================] - 2s 66ms/step - loss: 0.0427 - accuracy: 0.9831 - auc: 0.9998 - precision: 0.9836 - recall: 0.9812 - val_loss: 0.8423 - val_accuracy: 0.7935 - val_auc: 0.9369 - val_precision: 0.8079 - val_recall: 0.7772\n",
            "Epoch 48/100\n",
            "26/26 [==============================] - 2s 66ms/step - loss: 0.0322 - accuracy: 0.9831 - auc: 0.9998 - precision: 0.9842 - recall: 0.9806 - val_loss: 0.8688 - val_accuracy: 0.7935 - val_auc: 0.9362 - val_precision: 0.7943 - val_recall: 0.7554\n",
            "Epoch 49/100\n",
            "26/26 [==============================] - 2s 66ms/step - loss: 0.0347 - accuracy: 0.9855 - auc: 0.9999 - precision: 0.9855 - recall: 0.9849 - val_loss: 0.9073 - val_accuracy: 0.7717 - val_auc: 0.9372 - val_precision: 0.7889 - val_recall: 0.7717\n",
            "Epoch 50/100\n",
            "26/26 [==============================] - 2s 65ms/step - loss: 0.0352 - accuracy: 0.9855 - auc: 0.9998 - precision: 0.9855 - recall: 0.9849 - val_loss: 0.9220 - val_accuracy: 0.7880 - val_auc: 0.9336 - val_precision: 0.8092 - val_recall: 0.7609\n",
            "Epoch 51/100\n",
            "26/26 [==============================] - 2s 66ms/step - loss: 0.0323 - accuracy: 0.9843 - auc: 0.9999 - precision: 0.9849 - recall: 0.9843 - val_loss: 0.9494 - val_accuracy: 0.7663 - val_auc: 0.9328 - val_precision: 0.7809 - val_recall: 0.7554\n",
            "Epoch 52/100\n",
            "26/26 [==============================] - 2s 66ms/step - loss: 0.0318 - accuracy: 0.9843 - auc: 0.9999 - precision: 0.9854 - recall: 0.9837 - val_loss: 0.9197 - val_accuracy: 0.7717 - val_auc: 0.9310 - val_precision: 0.7841 - val_recall: 0.7500\n",
            "Epoch 53/100\n",
            "26/26 [==============================] - 2s 66ms/step - loss: 0.0340 - accuracy: 0.9831 - auc: 0.9998 - precision: 0.9836 - recall: 0.9824 - val_loss: 0.8832 - val_accuracy: 0.7826 - val_auc: 0.9360 - val_precision: 0.8011 - val_recall: 0.7663\n",
            "Epoch 54/100\n",
            "26/26 [==============================] - 2s 67ms/step - loss: 0.0333 - accuracy: 0.9824 - auc: 0.9998 - precision: 0.9836 - recall: 0.9806 - val_loss: 0.8903 - val_accuracy: 0.7772 - val_auc: 0.9366 - val_precision: 0.8011 - val_recall: 0.7663\n",
            "Epoch 55/100\n",
            "26/26 [==============================] - 2s 66ms/step - loss: 0.0306 - accuracy: 0.9873 - auc: 0.9999 - precision: 0.9873 - recall: 0.9867 - val_loss: 0.8997 - val_accuracy: 0.7989 - val_auc: 0.9360 - val_precision: 0.8090 - val_recall: 0.7826\n",
            "Epoch 56/100\n",
            "26/26 [==============================] - 2s 66ms/step - loss: 0.0328 - accuracy: 0.9843 - auc: 0.9998 - precision: 0.9848 - recall: 0.9831 - val_loss: 0.9361 - val_accuracy: 0.7826 - val_auc: 0.9331 - val_precision: 0.7921 - val_recall: 0.7663\n",
            "Epoch 57/100\n",
            "26/26 [==============================] - 2s 66ms/step - loss: 0.0306 - accuracy: 0.9861 - auc: 0.9999 - precision: 0.9867 - recall: 0.9861 - val_loss: 0.9240 - val_accuracy: 0.7826 - val_auc: 0.9324 - val_precision: 0.8103 - val_recall: 0.7663\n",
            "Epoch 58/100\n",
            "26/26 [==============================] - 2s 66ms/step - loss: 0.0321 - accuracy: 0.9861 - auc: 0.9999 - precision: 0.9867 - recall: 0.9861 - val_loss: 0.9578 - val_accuracy: 0.7663 - val_auc: 0.9313 - val_precision: 0.7977 - val_recall: 0.7500\n",
            "Epoch 59/100\n",
            "26/26 [==============================] - 2s 65ms/step - loss: 0.0324 - accuracy: 0.9849 - auc: 0.9998 - precision: 0.9849 - recall: 0.9849 - val_loss: 0.9469 - val_accuracy: 0.7880 - val_auc: 0.9291 - val_precision: 0.8092 - val_recall: 0.7609\n",
            "Epoch 60/100\n",
            "26/26 [==============================] - 2s 66ms/step - loss: 0.0312 - accuracy: 0.9837 - auc: 0.9999 - precision: 0.9843 - recall: 0.9837 - val_loss: 0.9450 - val_accuracy: 0.7717 - val_auc: 0.9318 - val_precision: 0.7877 - val_recall: 0.7663\n",
            "Epoch 61/100\n",
            "26/26 [==============================] - 2s 66ms/step - loss: 0.0345 - accuracy: 0.9824 - auc: 0.9998 - precision: 0.9824 - recall: 0.9824 - val_loss: 0.9942 - val_accuracy: 0.7772 - val_auc: 0.9281 - val_precision: 0.7910 - val_recall: 0.7609\n",
            "Epoch 62/100\n",
            "26/26 [==============================] - 2s 82ms/step - loss: 0.0295 - accuracy: 0.9861 - auc: 0.9999 - precision: 0.9861 - recall: 0.9861 - val_loss: 0.9196 - val_accuracy: 0.7609 - val_auc: 0.9321 - val_precision: 0.7943 - val_recall: 0.7554\n",
            "Epoch 63/100\n",
            "26/26 [==============================] - 2s 73ms/step - loss: 0.0277 - accuracy: 0.9855 - auc: 0.9999 - precision: 0.9855 - recall: 0.9855 - val_loss: 1.0098 - val_accuracy: 0.7663 - val_auc: 0.9257 - val_precision: 0.7943 - val_recall: 0.7554\n",
            "Epoch 64/100\n",
            "26/26 [==============================] - 2s 66ms/step - loss: 0.0326 - accuracy: 0.9831 - auc: 0.9998 - precision: 0.9831 - recall: 0.9831 - val_loss: 0.9467 - val_accuracy: 0.7717 - val_auc: 0.9290 - val_precision: 0.7841 - val_recall: 0.7500\n",
            "Epoch 65/100\n",
            "26/26 [==============================] - 2s 67ms/step - loss: 0.0324 - accuracy: 0.9855 - auc: 0.9998 - precision: 0.9855 - recall: 0.9843 - val_loss: 0.9933 - val_accuracy: 0.7772 - val_auc: 0.9288 - val_precision: 0.7833 - val_recall: 0.7663\n",
            "Epoch 66/100\n",
            "26/26 [==============================] - 2s 66ms/step - loss: 0.0290 - accuracy: 0.9843 - auc: 0.9999 - precision: 0.9843 - recall: 0.9837 - val_loss: 1.0264 - val_accuracy: 0.7663 - val_auc: 0.9262 - val_precision: 0.7809 - val_recall: 0.7554\n",
            "Epoch 67/100\n",
            "26/26 [==============================] - 2s 67ms/step - loss: 0.0323 - accuracy: 0.9824 - auc: 0.9998 - precision: 0.9824 - recall: 0.9818 - val_loss: 0.8660 - val_accuracy: 0.7989 - val_auc: 0.9328 - val_precision: 0.7978 - val_recall: 0.7717\n",
            "Epoch 68/100\n",
            "26/26 [==============================] - 2s 66ms/step - loss: 0.0297 - accuracy: 0.9867 - auc: 0.9999 - precision: 0.9867 - recall: 0.9867 - val_loss: 0.9262 - val_accuracy: 0.7826 - val_auc: 0.9303 - val_precision: 0.7943 - val_recall: 0.7554\n",
            "Epoch 69/100\n",
            "26/26 [==============================] - 2s 67ms/step - loss: 0.0315 - accuracy: 0.9831 - auc: 0.9998 - precision: 0.9831 - recall: 0.9831 - val_loss: 0.9813 - val_accuracy: 0.7554 - val_auc: 0.9271 - val_precision: 0.7977 - val_recall: 0.7500\n",
            "Epoch 70/100\n",
            "26/26 [==============================] - 2s 66ms/step - loss: 0.0294 - accuracy: 0.9824 - auc: 0.9999 - precision: 0.9824 - recall: 0.9824 - val_loss: 0.9423 - val_accuracy: 0.7772 - val_auc: 0.9350 - val_precision: 0.7886 - val_recall: 0.7500\n",
            "Epoch 71/100\n",
            "26/26 [==============================] - 2s 65ms/step - loss: 0.0307 - accuracy: 0.9831 - auc: 0.9999 - precision: 0.9831 - recall: 0.9831 - val_loss: 0.9524 - val_accuracy: 0.7609 - val_auc: 0.9307 - val_precision: 0.7919 - val_recall: 0.7446\n",
            "Epoch 72/100\n",
            "26/26 [==============================] - 2s 66ms/step - loss: 0.0297 - accuracy: 0.9837 - auc: 0.9998 - precision: 0.9836 - recall: 0.9824 - val_loss: 0.9629 - val_accuracy: 0.7609 - val_auc: 0.9272 - val_precision: 0.7861 - val_recall: 0.7391\n",
            "Epoch 73/100\n",
            "26/26 [==============================] - 2s 67ms/step - loss: 0.0291 - accuracy: 0.9855 - auc: 0.9999 - precision: 0.9861 - recall: 0.9855 - val_loss: 0.9472 - val_accuracy: 0.7772 - val_auc: 0.9309 - val_precision: 0.7955 - val_recall: 0.7609\n",
            "Epoch 74/100\n",
            "26/26 [==============================] - 2s 66ms/step - loss: 0.0296 - accuracy: 0.9824 - auc: 0.9999 - precision: 0.9824 - recall: 0.9824 - val_loss: 0.9771 - val_accuracy: 0.7717 - val_auc: 0.9288 - val_precision: 0.7977 - val_recall: 0.7500\n",
            "Epoch 75/100\n",
            "26/26 [==============================] - 2s 66ms/step - loss: 0.0271 - accuracy: 0.9837 - auc: 0.9999 - precision: 0.9848 - recall: 0.9831 - val_loss: 0.9950 - val_accuracy: 0.7717 - val_auc: 0.9253 - val_precision: 0.7784 - val_recall: 0.7446\n",
            "Epoch 76/100\n",
            "26/26 [==============================] - 2s 66ms/step - loss: 0.0291 - accuracy: 0.9873 - auc: 0.9999 - precision: 0.9873 - recall: 0.9873 - val_loss: 0.9999 - val_accuracy: 0.7826 - val_auc: 0.9278 - val_precision: 0.8000 - val_recall: 0.7609\n",
            "Epoch 77/100\n",
            "26/26 [==============================] - 2s 66ms/step - loss: 0.0314 - accuracy: 0.9818 - auc: 0.9998 - precision: 0.9818 - recall: 0.9818 - val_loss: 0.9822 - val_accuracy: 0.7826 - val_auc: 0.9287 - val_precision: 0.7910 - val_recall: 0.7609\n",
            "Epoch 78/100\n",
            "26/26 [==============================] - 2s 66ms/step - loss: 0.0275 - accuracy: 0.9831 - auc: 0.9999 - precision: 0.9831 - recall: 0.9831 - val_loss: 1.0336 - val_accuracy: 0.7772 - val_auc: 0.9271 - val_precision: 0.7865 - val_recall: 0.7609\n",
            "Epoch 79/100\n",
            "26/26 [==============================] - 2s 66ms/step - loss: 0.0285 - accuracy: 0.9843 - auc: 0.9999 - precision: 0.9849 - recall: 0.9843 - val_loss: 1.0219 - val_accuracy: 0.7663 - val_auc: 0.9270 - val_precision: 0.7841 - val_recall: 0.7500\n",
            "Epoch 80/100\n",
            "26/26 [==============================] - 2s 66ms/step - loss: 0.0271 - accuracy: 0.9824 - auc: 0.9999 - precision: 0.9824 - recall: 0.9824 - val_loss: 1.0310 - val_accuracy: 0.7826 - val_auc: 0.9281 - val_precision: 0.7921 - val_recall: 0.7663\n",
            "Epoch 81/100\n",
            "26/26 [==============================] - 2s 66ms/step - loss: 0.0273 - accuracy: 0.9861 - auc: 0.9999 - precision: 0.9861 - recall: 0.9855 - val_loss: 1.1700 - val_accuracy: 0.7554 - val_auc: 0.9214 - val_precision: 0.7680 - val_recall: 0.7554\n",
            "Epoch 82/100\n",
            "26/26 [==============================] - 2s 66ms/step - loss: 0.0287 - accuracy: 0.9849 - auc: 0.9999 - precision: 0.9861 - recall: 0.9849 - val_loss: 0.8943 - val_accuracy: 0.7772 - val_auc: 0.9327 - val_precision: 0.7989 - val_recall: 0.7554\n",
            "Epoch 83/100\n",
            "26/26 [==============================] - 2s 65ms/step - loss: 0.0353 - accuracy: 0.9849 - auc: 0.9995 - precision: 0.9849 - recall: 0.9849 - val_loss: 0.8618 - val_accuracy: 0.7772 - val_auc: 0.9326 - val_precision: 0.8081 - val_recall: 0.7554\n",
            "Epoch 84/100\n",
            "26/26 [==============================] - 2s 66ms/step - loss: 0.0296 - accuracy: 0.9837 - auc: 0.9999 - precision: 0.9854 - recall: 0.9831 - val_loss: 0.8885 - val_accuracy: 0.7772 - val_auc: 0.9375 - val_precision: 0.7943 - val_recall: 0.7554\n",
            "Epoch 85/100\n",
            "26/26 [==============================] - 2s 66ms/step - loss: 0.0280 - accuracy: 0.9843 - auc: 0.9999 - precision: 0.9843 - recall: 0.9843 - val_loss: 0.8935 - val_accuracy: 0.7717 - val_auc: 0.9346 - val_precision: 0.7898 - val_recall: 0.7554\n",
            "Epoch 86/100\n",
            "26/26 [==============================] - 2s 65ms/step - loss: 0.0319 - accuracy: 0.9818 - auc: 0.9998 - precision: 0.9818 - recall: 0.9818 - val_loss: 0.9015 - val_accuracy: 0.7663 - val_auc: 0.9327 - val_precision: 0.7886 - val_recall: 0.7500\n",
            "Epoch 87/100\n",
            "26/26 [==============================] - 2s 65ms/step - loss: 0.0319 - accuracy: 0.9849 - auc: 0.9999 - precision: 0.9855 - recall: 0.9843 - val_loss: 0.8663 - val_accuracy: 0.7826 - val_auc: 0.9399 - val_precision: 0.8046 - val_recall: 0.7609\n",
            "Epoch 88/100\n",
            "26/26 [==============================] - 2s 66ms/step - loss: 0.0279 - accuracy: 0.9837 - auc: 0.9999 - precision: 0.9843 - recall: 0.9837 - val_loss: 0.8579 - val_accuracy: 0.7880 - val_auc: 0.9367 - val_precision: 0.8125 - val_recall: 0.7772\n",
            "Epoch 89/100\n",
            "26/26 [==============================] - 2s 65ms/step - loss: 0.0260 - accuracy: 0.9879 - auc: 0.9999 - precision: 0.9885 - recall: 0.9867 - val_loss: 0.9156 - val_accuracy: 0.7826 - val_auc: 0.9345 - val_precision: 0.7910 - val_recall: 0.7609\n",
            "Epoch 90/100\n",
            "26/26 [==============================] - 2s 65ms/step - loss: 0.0285 - accuracy: 0.9837 - auc: 0.9998 - precision: 0.9848 - recall: 0.9837 - val_loss: 0.9194 - val_accuracy: 0.7826 - val_auc: 0.9343 - val_precision: 0.8057 - val_recall: 0.7663\n",
            "Epoch 91/100\n",
            "26/26 [==============================] - 2s 66ms/step - loss: 0.0292 - accuracy: 0.9837 - auc: 0.9999 - precision: 0.9837 - recall: 0.9837 - val_loss: 0.9196 - val_accuracy: 0.7935 - val_auc: 0.9341 - val_precision: 0.8092 - val_recall: 0.7609\n",
            "Epoch 92/100\n",
            "26/26 [==============================] - 2s 65ms/step - loss: 0.0292 - accuracy: 0.9855 - auc: 0.9999 - precision: 0.9855 - recall: 0.9849 - val_loss: 0.9433 - val_accuracy: 0.7717 - val_auc: 0.9333 - val_precision: 0.7898 - val_recall: 0.7554\n",
            "Epoch 93/100\n",
            "26/26 [==============================] - 2s 66ms/step - loss: 0.0297 - accuracy: 0.9849 - auc: 0.9999 - precision: 0.9849 - recall: 0.9843 - val_loss: 0.9322 - val_accuracy: 0.7880 - val_auc: 0.9327 - val_precision: 0.7931 - val_recall: 0.7500\n",
            "Epoch 94/100\n",
            "26/26 [==============================] - 2s 65ms/step - loss: 0.0274 - accuracy: 0.9873 - auc: 0.9999 - precision: 0.9873 - recall: 0.9873 - val_loss: 0.9422 - val_accuracy: 0.7663 - val_auc: 0.9306 - val_precision: 0.7898 - val_recall: 0.7554\n",
            "Epoch 95/100\n",
            "26/26 [==============================] - 2s 66ms/step - loss: 0.0262 - accuracy: 0.9873 - auc: 0.9999 - precision: 0.9873 - recall: 0.9873 - val_loss: 0.9353 - val_accuracy: 0.7989 - val_auc: 0.9342 - val_precision: 0.7989 - val_recall: 0.7554\n",
            "Epoch 96/100\n",
            "26/26 [==============================] - 2s 66ms/step - loss: 0.0273 - accuracy: 0.9843 - auc: 0.9999 - precision: 0.9849 - recall: 0.9843 - val_loss: 0.9829 - val_accuracy: 0.7663 - val_auc: 0.9307 - val_precision: 0.7853 - val_recall: 0.7554\n",
            "Epoch 97/100\n",
            "26/26 [==============================] - 2s 66ms/step - loss: 0.0288 - accuracy: 0.9849 - auc: 0.9999 - precision: 0.9848 - recall: 0.9837 - val_loss: 0.9904 - val_accuracy: 0.7717 - val_auc: 0.9302 - val_precision: 0.7797 - val_recall: 0.7500\n",
            "Epoch 98/100\n",
            "26/26 [==============================] - 2s 66ms/step - loss: 0.0288 - accuracy: 0.9837 - auc: 0.9999 - precision: 0.9854 - recall: 0.9837 - val_loss: 0.9356 - val_accuracy: 0.7663 - val_auc: 0.9291 - val_precision: 0.8046 - val_recall: 0.7609\n",
            "Epoch 99/100\n",
            "26/26 [==============================] - 2s 66ms/step - loss: 0.0263 - accuracy: 0.9843 - auc: 0.9999 - precision: 0.9843 - recall: 0.9837 - val_loss: 0.9843 - val_accuracy: 0.7717 - val_auc: 0.9304 - val_precision: 0.7809 - val_recall: 0.7554\n",
            "Epoch 100/100\n",
            "26/26 [==============================] - 2s 67ms/step - loss: 0.0283 - accuracy: 0.9843 - auc: 0.9999 - precision: 0.9843 - recall: 0.9843 - val_loss: 1.0013 - val_accuracy: 0.7500 - val_auc: 0.9276 - val_precision: 0.7697 - val_recall: 0.7446\n"
          ]
        }
      ],
      "source": [
        "#fit the model on the X_train and Y_train\n",
        "epochs = 100\n",
        "batch_size = 64\n",
        "history = model.fit(X_train, Y_train, batch_size = batch_size, epochs = epochs, validation_data = (X_test, Y_test), validation_split = 0.10)\n",
        "# history = model.fit(X_train, Y_train, epochs=epochs, batch_size=batch_size,validation_split=0.2,callbacks=[tf.keras.callbacks.EarlyStopping(monitor='val_loss', patience=3, min_delta=0.0001)])"
      ]
    },
    {
      "cell_type": "code",
      "execution_count": 11,
      "id": "c4170fea-4fef-496e-8080-a8744ef066bc",
      "metadata": {
        "colab": {
          "base_uri": "https://localhost:8080/"
        },
        "id": "c4170fea-4fef-496e-8080-a8744ef066bc",
        "outputId": "ba734f5b-3e2b-45bb-c4e9-54f171a1789f"
      },
      "outputs": [
        {
          "output_type": "stream",
          "name": "stdout",
          "text": [
            "7/7 [==============================] - 0s 19ms/step - loss: 1.2499 - accuracy: 0.7745 - auc: 0.9200 - precision: 0.7879 - recall: 0.7647\n"
          ]
        }
      ],
      "source": [
        "#evaluate model on test data\n",
        "accr = model.evaluate(X_test,Y_test)"
      ]
    },
    {
      "cell_type": "code",
      "execution_count": 12,
      "id": "525dfadb-318f-41f9-9d4d-f7dcd4f127d7",
      "metadata": {
        "colab": {
          "base_uri": "https://localhost:8080/",
          "height": 879
        },
        "id": "525dfadb-318f-41f9-9d4d-f7dcd4f127d7",
        "outputId": "2c4f8b35-47ac-4628-cad3-4ba774a621d9"
      },
      "outputs": [
        {
          "output_type": "display_data",
          "data": {
            "text/plain": [
              "<Figure size 1080x1080 with 5 Axes>"
            ],
            "image/png": "[encoded data removed]"
          },
          "metadata": {
            "needs_background": "light"
          }
        }
      ],
      "source": [
        "#plot:                         \n",
        "#1. train accuracy vs val accuracy\n",
        "#2. train loss vs val loss\n",
        "#3. train precision vs val precision\n",
        "#4. train recall vs val recall\n",
        "#5. train auc vs val auc\n",
        "plt.figure(figsize = (15, 15))\n",
        "def plot_metric(history, label, p):\n",
        "    plt.subplot(3, 2, p)\n",
        "    plt.plot(history[label], label = label, color = 'red')\n",
        "    plt.plot(history['val_'+label], label = 'Val ' + label, color = 'blue')\n",
        "    plt.legend()\n",
        "    plt.title(label)\n",
        "plot_metric(history.history, 'accuracy', 1)\n",
        "plot_metric(history.history, 'loss', 2)\n",
        "plot_metric(history.history, 'precision', 3)\n",
        "plot_metric(history.history, 'recall', 4)\n",
        "plot_metric(history.history, 'auc', 5)\n",
        "plt.show()"
      ]
    }
  ],
  "metadata": {
    "accelerator": "GPU",
    "colab": {
      "name": "NLP_Project_Classification.ipynb",
      "provenance": [],
      "collapsed_sections": []
    },
    "gpuClass": "standard",
    "kernelspec": {
      "display_name": "Python 3 (ipykernel)",
      "language": "python",
      "name": "python3"
    },
    "language_info": {
      "codemirror_mode": {
        "name": "ipython",
        "version": 3
      },
      "file_extension": ".py",
      "mimetype": "text/x-python",
      "name": "python",
      "nbconvert_exporter": "python",
      "pygments_lexer": "ipython3",
      "version": "3.9.7"
    }
  },
  "nbformat": 4,
  "nbformat_minor": 5
}